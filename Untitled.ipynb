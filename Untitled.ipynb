{
 "cells": [
  {
   "cell_type": "markdown",
   "id": "30af7aca-6f90-4416-b0dd-64a680fecf59",
   "metadata": {},
   "source": [
    "# Analysis of Spotify Most Streamed Songs of 2023"
   ]
  },
  {
   "cell_type": "markdown",
   "id": "d15b8309-fd84-496a-b62f-bdb794956f2a",
   "metadata": {},
   "source": []
  }
 ],
 "metadata": {
  "kernelspec": {
   "display_name": "Python 3 (ipykernel)",
   "language": "python",
   "name": "python3"
  },
  "language_info": {
   "codemirror_mode": {
    "name": "ipython",
    "version": 3
   },
   "file_extension": ".py",
   "mimetype": "text/x-python",
   "name": "python",
   "nbconvert_exporter": "python",
   "pygments_lexer": "ipython3",
   "version": "3.12.4"
  }
 },
 "nbformat": 4,
 "nbformat_minor": 5
}
